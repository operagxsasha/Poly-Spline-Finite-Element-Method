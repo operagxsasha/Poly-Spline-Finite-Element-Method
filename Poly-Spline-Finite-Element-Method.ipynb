{
 "cells": [
  {
   "cell_type": "markdown",
   "metadata": {},
   "source": [
    "# Poly-Spline Finite-Element Method"
   ]
  },
  {
   "cell_type": "markdown",
   "metadata": {},
   "source": [
    "Simple python notebook to regenrate the Fig 13.\n",
    "\n",
    "The data and scripts to regenerate the other figures can be found \n",
    "[here](https://github.com/polyfem/Poly-Spline-Finite-Element-Method.git).\n",
    "\n",
    "Note, we used [polyfem](https://polyfem.github.io) [C++ version](https://github.com/polyfem/polyfem/) for all figures."
   ]
  },
  {
   "cell_type": "markdown",
   "metadata": {},
   "source": [
    "Note that this can be run direcly with binder!\n",
    "[![Binder](https://mybinder.org/badge_logo.svg)](https://mybinder.org/v2/gh/polyfem/Poly-Spline-Finite-Element-Method/master?filepath=Poly-Spline-Finite-Element-Method.ipynb)\n",
    "\n",
    "Importing libraries"
   ]
  },
  {
   "cell_type": "code",
   "execution_count": null,
   "metadata": {},
   "outputs": [],
   "source": [
    "import numpy as np\n",
    "import polyfempy as pf\n",
    "import json\n",
    "\n",
    "#plotting:\n",
    "import meshplot as mp\n",
    "\n",
    "import platform"
   ]
  },
  {
   "cell_type": "markdown",
   "metadata": {},
   "source": [
    "Note that this notebook is designed to be run in the root folder.\n",
    "If you want to reproduce the results of the teaser you can find the images [here](https://github.com/polyfem/Decoupling-Simulation-Accuracy-from-Mesh-Quality/tree/master/fig1-teaser/meshes)."
   ]
  },
  {
   "cell_type": "markdown",
   "metadata": {},
   "source": [
    "Setup problem"
   ]
  },
  {
   "cell_type": "code",
   "execution_count": null,
   "metadata": {},
   "outputs": [],
   "source": [
    "#Uses laplacian\n",
    "#we compare with Q2\n",
    "settings = pf.Settings(\n",
    "    pde=pf.PDEs.Laplacian,\n",
    "    discr_order=2\n",
    ")\n",
    "\n",
    "if platform.system() == 'Windows':\n",
    "    settings.set_advanced_option(\"solver_type\", \"Eigen::SparseLU\")\n",
    "else:\n",
    "    settings.set_advanced_option(\"solver_type\", \"Eigen::UmfPackLU\")\n",
    "\n",
    "\n",
    "#and Franke function (https://github.com/polyfem/polyfem/blob/master/src/problem/FrankeProblem.cpp)\n",
    "settings.problem = pf.Problems.Franke()"
   ]
  },
  {
   "cell_type": "markdown",
   "metadata": {},
   "source": [
    "First we solve using standard $Q_2$ elements and our method which we enable with `settings.set_advanced_option(\"use_spline\", True)`.\n",
    "\n",
    "**Note 1** this takes some time.\n",
    "**Note 2** on binder there is not enough memory, you can run it only in 2D, uncomment the second line."
   ]
  },
  {
   "cell_type": "code",
   "execution_count": null,
   "metadata": {},
   "outputs": [],
   "source": [
    "meshes = [\"meshes/penguin.obj\", \"meshes/double_torus.HYBRID\", \"meshes/sculpt.HYBRID\"]\n",
    "# meshes = [\"meshes/penguin.obj\"]\n",
    "\n",
    "total_solutions = {}\n",
    "\n",
    "for use_spline in [False, True]:\n",
    "    settings.set_advanced_option(\"use_spline\", use_spline)\n",
    "    \n",
    "    solver = pf.Solver()\n",
    "    solver.set_log_level(6)\n",
    "    solver.settings(settings)\n",
    "\n",
    "    solutions = []\n",
    "\n",
    "    for mesh in meshes:\n",
    "        #our method requires 1 level of refinement\n",
    "        solver.load_mesh_from_path(mesh, normalize_mesh=True, n_refs=1)\n",
    "        solver.solve()\n",
    "\n",
    "        #getting and storing solution\n",
    "        v, f, sol = solver.get_sampled_solution()\n",
    "        solutions.append({\"v\": v, \"f\": f, \"sol\": sol})\n",
    "        \n",
    "    #store these list in the total one\n",
    "    total_solutions[\"ours\" if use_spline else \"Q2\"] = solutions\n",
    "\n",
    "print(\"Done!\")"
   ]
  },
  {
   "cell_type": "markdown",
   "metadata": {},
   "source": [
    "It takes time, plz wait until done!"
   ]
  },
  {
   "cell_type": "markdown",
   "metadata": {},
   "source": [
    "## Plot results"
   ]
  },
  {
   "cell_type": "code",
   "execution_count": null,
   "metadata": {},
   "outputs": [],
   "source": [
    "#for nice plot we append the 2 meshses\n",
    "def get_v_f_c(sols, i):\n",
    "    #append points and offset x by 1.1\n",
    "    v_ours = np.array(total_solutions[\"ours\"][i][\"v\"])\n",
    "    v_p1 = np.array(total_solutions[\"Q2\"][i][\"v\"])\n",
    "    v_p1[:, 0] += 1.1\n",
    "    v = np.append(v_ours, v_p1, 0)\n",
    "    \n",
    "    #colors\n",
    "    c_ours = np.array(total_solutions[\"ours\"][i][\"sol\"])\n",
    "    c_p1 = np.array(total_solutions[\"Q2\"][i][\"sol\"])\n",
    "    c = np.append(c_ours, c_p1, 0)\n",
    "    \n",
    "    #append faces\n",
    "    f_ours = np.array(total_solutions[\"ours\"][i]['f'])\n",
    "    f_p1 = np.array(total_solutions[\"Q2\"][i]['f'])\n",
    "    f_p1 += np.max(f_ours)+1\n",
    "    f = np.append(f_ours, f_p1, 0)\n",
    "    \n",
    "    return v, f, c"
   ]
  },
  {
   "cell_type": "markdown",
   "metadata": {},
   "source": [
    "Our results are on the left!"
   ]
  },
  {
   "cell_type": "code",
   "execution_count": null,
   "metadata": {},
   "outputs": [],
   "source": [
    "v, f, c = get_v_f_c(total_solutions, 0)\n",
    "p = mp.plot(v, f, c, return_plot=True)\n",
    "\n",
    "@mp.interact(mesh=[(meshes[i], i) for i in range(len(meshes))])\n",
    "def ff(mesh):\n",
    "    v, f, c = get_v_f_c(total_solutions, mesh)\n",
    "    mp.plot(v, f, c, plot=p)\n",
    "p"
   ]
  }
 ],
 "metadata": {
  "kernelspec": {
   "display_name": "Python 3",
   "language": "python",
   "name": "python3"
  },
  "language_info": {
   "codemirror_mode": {
    "name": "ipython",
    "version": 3
   },
   "file_extension": ".py",
   "mimetype": "text/x-python",
   "name": "python",
   "nbconvert_exporter": "python",
   "pygments_lexer": "ipython3",
   "version": "3.7.3"
  }
 },
 "nbformat": 4,
 "nbformat_minor": 2
}
